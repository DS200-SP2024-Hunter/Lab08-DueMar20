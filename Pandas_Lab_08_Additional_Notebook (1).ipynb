{
  "nbformat": 4,
  "nbformat_minor": 0,
  "metadata": {
    "colab": {
      "provenance": []
    },
    "kernelspec": {
      "name": "python3",
      "display_name": "Python 3"
    },
    "language_info": {
      "name": "python"
    }
  },
  "cells": [
    {
      "cell_type": "markdown",
      "source": [
        "# Step-by-Step Approach to LAB 08 using Pandas"
        
      ],
      "metadata": {
        "id": "WuxApqWqpStT"
      }
    },
    {
      "cell_type": "code",
      "source": [
        "# This notebook contains sample code on how to make use of pandas to deal with Lab 08\n",
        "# Certain functions like groupby(), sample() vary significantly compared to data science functions\n",
        "# I encourage students to use pandas dataframes for labs but it is 100% optional"
      ],
      "metadata": {
        "id": "QcP0gw7oubhe"
      },
      "execution_count": null,
      "outputs": []
    },
    {
      "cell_type": "code",
      "source": [
        "import pandas as pd\n",
        "import numpy as np\n",
        "path = \"https://raw.githubusercontent.com/DS200-SP2024-Hunter/Lab08-DueMar20/main/FiveKResults.csv\""
      ],
      "metadata": {
        "id": "6c9b8QzypWH5"
      },
      "execution_count": null,
      "outputs": []
    },
    {
      "cell_type": "markdown",
      "source": [
        "# Task 1:\n",
        "Load the dataset (the URL is given above) into python. Give it a sensible name that you can remember, like fiveK."
      ],
      "metadata": {
        "id": "gbwPAdOZp6ZU"
      }
    },
    {
      "cell_type": "code",
      "source": [
        "# Sample code\n",
        "fiveK = pd.read_csv(path_data)"
      ],
      "metadata": {
        "id": "exj-5vddpo4u"
      },
      "execution_count": null,
      "outputs": []
    },
    {
      "cell_type": "markdown",
      "source": [
        "# Task 2:\n",
        "Perform an A/B test of the null hypothesis that the hypothetical average male time in this race equals the hypothetical average female time in this race, among all 5K runners. For this purpose, you can either use the difference_of_means function from Section 12.1 or you can create your own version of this function using pandas."
      ],
      "metadata": {
        "id": "XjFnlCUPqPHI"
      }
    },
    {
      "cell_type": "code",
      "source": [
        "# Sample function to perform the task of finding difference between male and female average finsihing time repetitively:\n",
        "\n",
        "def difference_of_means(dataframe, group_label):\n",
        "  reduced = dataframe[['Interested Column Name', group_label]].groupby(group_label).mean()\n",
        "  return reduced.loc[False][0] - reduced.loc[True][0]\n",
        "\n",
        "# loc is basically a label based locate function very vital for accessing / slicing a group of rows\n",
        "# loc[False] --> male\n",
        "# loc[True] --> female"
      ],
      "metadata": {
        "id": "aIdI-4cZwQkX"
      },
      "execution_count": null,
      "outputs": []
    },
    {
      "cell_type": "code",
      "source": [
        "# Sample code to shuffle the column \"Identifies As Female\" and stimulate one difference of mean value\n",
        "\n",
        "def one_simulated_difference_of_means():\n",
        "    shuffled_labels = fiveK['The name of the column you are interested in shuffling'].sample(n = 656, replace=False).reset_index(drop=True)\n",
        "    reduced_df = fiveK.copy()[['Column A', 'Column B']] # specify the name of the columns you want. Narrow down your table, we are interested only in two columns\n",
        "    reduced_df['shuffled_labels'] = shuffled_labels\n",
        "    return difference_of_means(reduced_df, 'shuffled_labels')"
      ],
      "metadata": {
        "id": "bbtpPtwo287J"
      },
      "execution_count": null,
      "outputs": []
    },
    {
      "cell_type": "code",
      "source": [
        "# Performing this task for n repetitions\n",
        "differences = list()\n",
        "\n",
        "repetitions = 5000\n",
        "for i in np.arange(repetitions):\n",
        "    new_difference = one_simulated_difference_of_means()\n",
        "    differences.append(new_difference)\n",
        "\n"
      ],
      "metadata": {
        "id": "o_Cx3vE75BbU"
      },
      "execution_count": null,
      "outputs": []
    },
    {
      "cell_type": "markdown",
      "source": [
        "# Task 3\n",
        "Plot the histogram of mean differences that you obtain by simulation under the null hypothesis of no mean difference. Compare this histogram to the value observed in the sample, calculate a p-value, and comment on what this p-value tells you in this case about whether we should reject the null hypothesis. Write a conclusion sentence that conveys what you have discovered to an audience unfamiliar with statistical terminology.\n",
        "\n"
      ],
      "metadata": {
        "id": "ZY-b2KJEBtMa"
      }
    },
    {
      "cell_type": "code",
      "source": [
        "pd.DataFrame(differences).hist()\n",
        "# by default bins values will be set according to the distribution of the data\n",
        "# if you don't want the grid, add a parameter of grid = False inside hist()"
      ],
      "metadata": {
        "colab": {
          "base_uri": "https://localhost:8080/",
          "height": 469
        },
        "id": "xlVEylj-7GR2",
        "outputId": "f2efe623-c2ea-419a-bcf9-8dc5cfe68233"
      },
      "execution_count": null,
      "outputs": [
        {
          "output_type": "execute_result",
          "data": {
            "text/plain": [
              "array([[<Axes: title={'center': '0'}>]], dtype=object)"
            ]
          },
          "metadata": {},
          "execution_count": 6
        },
        {
          "output_type": "display_data",
          "data": {
            "text/plain": [
              "<Figure size 640x480 with 1 Axes>"
            ],
            "image/png": "[encoded data removed]"
          },
          "metadata": {}
        }
      ]
    },
    {
      "cell_type": "code",
      "source": [
        "# observe value corresponds to original mean difference before the hypothesis testing is performed\n",
        "# for example, consider observed difference = -1\n",
        "# Modify the observed difference as per your scenario\n",
        "observed_difference = -1\n",
        "diff_array = np.array(differences)\n",
        "empirical_p = np.count_nonzero(diff_array<=observed_difference)/ repetitions\n",
        "empirical_p"
      ],
      "metadata": {
        "colab": {
          "base_uri": "https://localhost:8080/"
        },
        "id": "HXmEIFoKCHcn",
        "outputId": "0e455add-7992-4de6-e442-425cf2f75a92"
      },
      "execution_count": null,
      "outputs": [
        {
          "output_type": "execute_result",
          "data": {
            "text/plain": [
              "0.0386"
            ]
          },
          "metadata": {},
          "execution_count": 7
        }
      ]
    },
    {
      "cell_type": "markdown",
      "source": [
        "Note:\n",
        "If the observed value falls on the right side of the distribution (meaning it's higher than most of the other values in the distribution), you calculate the p-value by considering all values greater than or equal to the observed value\n",
        "\n",
        "if the observed value falls on the left side of the distribution (meaning it's lower than most of the other values in the distribution), you calculate the p-value by considering all values less than or equal to the observed value"
      ],
      "metadata": {
        "id": "-G0maP4TEAAu"
      }
    },
    {
      "cell_type": "markdown",
      "source": [
        "# Task 4\n",
        "Using the steps outlined in Tasks 4 through 7, construct a confidence interval for the true mean difference (male mean minus female mean) using bootstrapping."
      ],
      "metadata": {
        "id": "jHNYz1I3bn6O"
      }
    },
    {
      "cell_type": "code",
      "source": [
        "fiveK['Identifies As Female'].value_counts()"
      ],
      "metadata": {
        "colab": {
          "base_uri": "https://localhost:8080/"
        },
        "id": "UuZan_bhfGis",
        "outputId": "ff0f3974-e437-41a8-9126-632189172a8f"
      },
      "execution_count": null,
      "outputs": [
        {
          "output_type": "execute_result",
          "data": {
            "text/plain": [
              "False    363\n",
              "True     293\n",
              "Name: Identifies As Female, dtype: int64"
            ]
          },
          "metadata": {},
          "execution_count": 14
        }
      ]
    },
    {
      "cell_type": "code",
      "source": [
        "fiveK_male = fiveK[fiveK['Identifies As Female']==False]\n",
        "fiveK_female = fiveK[fiveK['Identifies As Female']==True]"
      ],
      "metadata": {
        "id": "O7o5RrkcbkqX"
      },
      "execution_count": null,
      "outputs": []
    },
    {
      "cell_type": "markdown",
      "source": [
        "# Task 5\n",
        "Rewrite the function one_bootstrap_median in Section 13.2.6. so that it selects one bootstrap sample for females, another for males, then returns the difference of the two mean finishing times. Here is code that accomplishes this if you're using the datascience package:"
      ],
      "metadata": {
        "id": "ZMuStOydiTub"
      }
    },
    {
      "cell_type": "code",
      "source": [
        "# Now perform Bootstripping on fiveK_Male and fiveK_Female and find the mean difference\n",
        "def one_bootstrap_mean_difference():\n",
        "    resampled_Females = fiveK_female.sample(n = 293, replace = True)\n",
        "    resampled_Males = # follow the syntax but remeber the n changes for male\n",
        "    Female_mean = np.mean(resampled_Females['Finishing Time In Minutes'])\n",
        "    Male_mean = # your code\n",
        "    bootstrapped_mean_difference =  Male_mean - Female_mean\n",
        "    return bootstrapped_mean_difference"
      ],
      "metadata": {
        "id": "GfPZHcarcEVG"
      },
      "execution_count": null,
      "outputs": []
    },
    {
      "cell_type": "markdown",
      "source": [
        "# Task 6\n",
        "Reproduce the analysis of Section 13.2.7 by creating a histogram of 5000 bootstrapped mean differences. You will have to choose histogram bins that are appropriate for this example AND there will not be a green dot showing the position of the population parameter (since in this case we do not know the population parameter)."
      ],
      "metadata": {
        "id": "hDu8zx95iki7"
      }
    },
    {
      "cell_type": "code",
      "source": [
        "num_repetitions = 5000\n",
        "bstrap_means = list() #creating an empty list\n",
        "for i in np.arange(num_repetitions):\n",
        "    bstrap_means = np.append(bstrap_means, one_bootstrap_mean_difference())"
      ],
      "metadata": {
        "id": "Etmo1Q4winyS"
      },
      "execution_count": null,
      "outputs": []
    },
    {
      "cell_type": "code",
      "source": [
        "resampled_means = pd.DataFrame({\"Bootstrap Sample means\": bstrap_means})\n",
        "resampled_means.hist()"
      ],
      "metadata": {
        "colab": {
          "base_uri": "https://localhost:8080/",
          "height": 469
        },
        "id": "BnaWPL-riw_Z",
        "outputId": "e2ce0b92-c00b-4e61-bb54-72754e58294a"
      },
      "execution_count": null,
      "outputs": [
        {
          "output_type": "execute_result",
          "data": {
            "text/plain": [
              "array([[<Axes: title={'center': 'Bootstrap Sample means'}>]], dtype=object)"
            ]
          },
          "metadata": {},
          "execution_count": 36
        },
        {
          "output_type": "display_data",
          "data": {
            "text/plain": [
              "<Figure size 640x480 with 1 Axes>"
            ],
            "image/png": "[encoded data removed]"
          },
          "metadata": {}
        }
      ]
    },
    {
      "cell_type": "markdown",
      "source": [
        "# Task 7\n",
        "Find the 2.5 and 97.5 percentiles of your mean difference distribution, and use these values as a 95% confidence interval. You should include a text box in your output that says \"We are 95% confident that the true difference in mean 5K road race finishing times between females and males is between ----- and -----.\" (You will fill in the blanks.)"
      ],
      "metadata": {
        "id": "0j5KZukFjPIr"
      }
    },
    {
      "cell_type": "code",
      "source": [
        "left = np.percentile(bstrap_means, 2.5)\n",
        "right =  # your code\n",
        "print(left, right)"
      ],
      "metadata": {
        "id": "TyuIUbF1i9vE"
      },
      "execution_count": null,
      "outputs": []
    }
  ]
}
