{
  "nbformat": 4,
  "nbformat_minor": 5,
  "metadata": {
    "kernelspec": {
      "display_name": "Python 3 (ipykernel)",
      "language": "python",
      "name": "python3"
    },
    "language_info": {
      "codemirror_mode": {
        "name": "ipython",
        "version": 3
      },
      "file_extension": ".py",
      "mimetype": "text/x-python",
      "name": "python",
      "nbconvert_exporter": "python",
      "pygments_lexer": "ipython3",
      "version": "3.7.9"
    },
    "colab": {
      "provenance": []
    }
  },
  "cells": [
    {
      "cell_type": "markdown",
      "source": [
        "# This is a step by step approach to Lab 08\n",
        "## All Code provided here is sample code - if you just copy and paste it, it may not work\n",
        "## If you have any doubts, feel free to reach out to me at vzm5268@psu.edu"
      ],
      "metadata": {
        "id": "PGP6-TOUWPEQ"
      }
    },
    {
      "cell_type": "code",
      "source": [
        "from datascience import *\n",
        "path_data = \"https://raw.githubusercontent.com/DS200-SP2024-Hunter/Lab08-DueMar20/main/FiveKResults.csv\"\n",
        "import numpy as np\n",
        "\n",
        "import matplotlib\n",
        "matplotlib.use('Agg')\n",
        "%matplotlib inline\n",
        "import matplotlib.pyplot as plots\n",
        "plots.style.use('fivethirtyeight')"
      ],
      "metadata": {
        "id": "lMyAfr3FWsWk"
      },
      "execution_count": null,
      "outputs": []
    },
    {
      "cell_type": "markdown",
      "source": [
        "# Task 1:\n",
        "Load the dataset (the URL is given above) into python. Give it a sensible name that you can remember, like fiveK.\n",
        "\n"
      ],
      "metadata": {
        "id": "UPr6P0lDX7l6"
      }
    },
    {
      "cell_type": "code",
      "source": [
        "fiveK = Table.read_table(path_data)"
      ],
      "metadata": {
        "id": "iKjhHeyqYCia"
      },
      "execution_count": null,
      "outputs": []
    },
    {
      "cell_type": "code",
      "source": [
        "fiveK.show(5)"
      ],
      "metadata": {
        "colab": {
          "base_uri": "https://localhost:8080/",
          "height": 236
        },
        "id": "Czgx8EAoYfIQ",
        "outputId": "52780a11-fa51-4759-bc95-81861ac08734"
      },
      "execution_count": null,
      "outputs": [
        {
          "output_type": "display_data",
          "data": {
            "text/plain": [
              "<IPython.core.display.HTML object>"
            ],
            "text/html": [
              "<table border=\"1\" class=\"dataframe\">\n",
              "    <thead>\n",
              "        <tr>\n",
              "            <th>Run</th> <th>Finishing Time In Minutes</th> <th>Identifies As Female</th> <th>Age</th> <th>Name</th> <th>City</th> <th>State</th>\n",
              "        </tr>\n",
              "    </thead>\n",
              "    <tbody>\n",
              "        <tr>\n",
              "            <td>AF  </td> <td>17.617                   </td> <td>False               </td> <td>27  </td> <td>Andy Cunningham</td> <td>State College</td> <td>PA   </td>\n",
              "        </tr>\n",
              "        <tr>\n",
              "            <td>AF  </td> <td>18.067                   </td> <td>False               </td> <td>49  </td> <td>S Mark Courtney</td> <td>Grove City   </td> <td>PA   </td>\n",
              "        </tr>\n",
              "        <tr>\n",
              "            <td>AF  </td> <td>18.583                   </td> <td>False               </td> <td>46  </td> <td>Terry Reid     </td> <td>Bellefonte   </td> <td>PA   </td>\n",
              "        </tr>\n",
              "        <tr>\n",
              "            <td>AF  </td> <td>18.717                   </td> <td>False               </td> <td>15  </td> <td>Justin Rupert  </td> <td>Wellsboro    </td> <td>PA   </td>\n",
              "        </tr>\n",
              "        <tr>\n",
              "            <td>AF  </td> <td>18.8                     </td> <td>True                </td> <td>35  </td> <td>Kate Fonshell  </td> <td>Ardmore      </td> <td>PA   </td>\n",
              "        </tr>\n",
              "    </tbody>\n",
              "</table>\n",
              "<p>... (651 rows omitted)</p>"
            ]
          },
          "metadata": {}
        }
      ]
    },
    {
      "cell_type": "markdown",
      "source": [
        "# Task 2\n",
        "Perform an A/B test of the null hypothesis that the hypothetical average male time in this race equals the hypothetical average female time in this race, among all 5K runners. For this purpose, you can either use the difference_of_means function from Section 12.1 or you can create your own version of this function using pandas.\n",
        "\n"
      ],
      "metadata": {
        "id": "XyqzTe0sY85i"
      }
    },
    {
      "cell_type": "code",
      "source": [
        "# define your NULL Hypothesis\n",
        "# define your test statistics"
      ],
      "metadata": {
        "id": "JND_4ePjY-Fp"
      },
      "execution_count": null,
      "outputs": []
    },
    {
      "cell_type": "code",
      "source": [
        "'''We are going compute such differences repeatedly in our simulations below, so we will define a function to do the job. The function takes two arguments:\n",
        "      the name of the table of data\n",
        "      the label of the column that contains the Boolean variable for grouping\n",
        "      It returns the difference between the means of the True group and the False group'''\n",
        "\n",
        "# Purposefully I have not modified the sample code according to our scenario\n",
        "# It is your job to modify it as needed\n",
        "\n",
        "def difference_of_means(table, group_label):\n",
        "    reduced = table.select('Birth Weight', group_label)\n",
        "    means_table = reduced.group(group_label, np.average)\n",
        "    means = means_table.column(1)\n",
        "    return means.item(1) - means.item(0)"
      ],
      "metadata": {
        "id": "NCSlM5apaAXr"
      },
      "execution_count": null,
      "outputs": []
    },
    {
      "cell_type": "code",
      "source": [
        "'''If there were no difference between the two distributions in the underlying population, then whether Identifies as Female has the label True or False with respect to\n",
        "Finishing Time should make no difference to the average. The idea, then, is to shuffle all the labels randomly among the participants. This is called random permutation.\n",
        "'''\n",
        "\n",
        "# Purposefully I have not modified the sample code according to our scenario\n",
        "# It is your job to modify it as needed\n",
        "\n",
        "def one_simulated_difference_of_means():\n",
        "    \"\"\"Returns: Difference between mean birthweights\n",
        "    of babies of smokers and non-smokers after shuffling labels\"\"\"\n",
        "\n",
        "    # array of shuffled labels\n",
        "    shuffled_labels = births.sample(with_replacement=False).column('Maternal Smoker')\n",
        "\n",
        "    # table of birth weights and shuffled labels\n",
        "    shuffled_table = births.select('Birth Weight').with_column(\n",
        "        'Shuffled Label', shuffled_labels)\n",
        "\n",
        "    return difference_of_means(shuffled_table, 'Shuffled Label')"
      ],
      "metadata": {
        "id": "W_hVghZfaRAD"
      },
      "execution_count": null,
      "outputs": []
    },
    {
      "cell_type": "code",
      "source": [
        "# Perform this task for many repetitions\n",
        "# Notice: In this version, we set up a full array with the correct number of entries as a first step.\n",
        "repetitions = 5000\n",
        "differences = np.empty(repetitions)\n",
        "\n",
        "for i in np.arange(repetitions):\n",
        "    differences[i] = one_simulated_difference_of_means()"
      ],
      "metadata": {
        "id": "ZwgJupRQbAgh"
      },
      "execution_count": null,
      "outputs": []
    },
    {
      "cell_type": "markdown",
      "source": [
        "# Task 3\n",
        "Plot the histogram of mean differences that you obtain by simulation under the null hypothesis of no mean difference. Compare this histogram to the value observed in the sample, calculate a p-value, and comment on what this p-value tells you in this case about whether we should reject the null hypothesis. Write a conclusion sentence that conveys what you have discovered to an audience unfamiliar with statistical terminology.\n",
        "\n"
      ],
      "metadata": {
        "id": "n-S74ex6c4sB"
      }
    },
    {
      "cell_type": "code",
      "source": [
        "Table().with_column('Difference Between Group Means', differences).hist()\n",
        "print('Observed Difference:', observed_difference)\n",
        "plots.title('Prediction Under the Null Hypothesis')"
      ],
      "metadata": {
        "id": "0NDCcvS1cg8c"
      },
      "execution_count": null,
      "outputs": []
    },
    {
      "cell_type": "code",
      "source": [
        "# observed value corresponds to the original mean difference before NULL hypothesis is performed\n",
        "# refer to section  12.1 from textbook if needed\n",
        "empirical_p = np.count_nonzero(differences <= observed_difference) / repetitions\n",
        "empirical_p"
      ],
      "metadata": {
        "id": "nXz1Fc0KcmzQ"
      },
      "execution_count": null,
      "outputs": []
    },
    {
      "cell_type": "markdown",
      "source": [
        "# Task 4\n",
        "\n",
        "Construct a confidence interval for the true mean difference (male mean minus female mean) using bootstrapping. Just as in Section 13.2, it will be possible to use the sample() method with no arguments to accomplish the bootstrapping. However, there is a subtle point in this case: We should make sure that each bootstrap sample has the same number of males and females as the original, since we're finding the difference of two sample means (one female, one male) and the sample sizes are important in determining the behavior of sample means. Therefore, if you're using datascience then you'll want to create two separate Table objects, one for females and one for males, using code such as this:"
      ],
      "metadata": {
        "id": "kJnxSjCJesIL"
      }
    },
    {
      "cell_type": "code",
      "source": [
        "fiveK_Male = fiveK.where('Identifies As Female', False)\n",
        "fiveK_Female = fiveK.where('Identifies As Female', True)"
      ],
      "metadata": {
        "id": "9VEaP8MzhEBs"
      },
      "execution_count": null,
      "outputs": []
    },
    {
      "cell_type": "markdown",
      "source": [
        "# Task 5\n",
        "\n",
        "Rewrite the function one_bootstrap_median in Section 13.2.6. so that it selects one bootstrap sample for females, another for males, then returns the difference of the two mean finishing times. Here is code that accomplishes this if you're using the datascience package:"
      ],
      "metadata": {
        "id": "H0I9sJTWnegp"
      }
    },
    {
      "cell_type": "code",
      "source": [
        "# Now perform Bootstripping on fiveK_Male and fiveK_Female and find the mean difference\n",
        "def one_bootstrap_mean_difference():\n",
        "    resampled_Females = fiveK_Female.sample()\n",
        "    resampled_Males = fiveK_Male.sample()\n",
        "    Female_mean = np.mean(resampled_Females.column('Finishing Time In Minutes'))\n",
        "    Male_mean = np.mean(resampled_Males.column('Finishing Time In Minutes'))\n",
        "    bootstrapped_mean_difference =  Male_mean - Female_mean\n",
        "    return bootstrapped_mean_difference"
      ],
      "metadata": {
        "id": "8I-zFtafhEfu"
      },
      "execution_count": null,
      "outputs": []
    },
    {
      "cell_type": "markdown",
      "source": [
        "# Task 6\n",
        "Reproduce the analysis of Section 13.2.7 by creating a histogram of 5000 bootstrapped mean differences. You will have to choose histogram bins that are appropriate for this example AND there will not be a green dot showing the position of the population parameter (since in this case we do not know the population parameter)."
      ],
      "metadata": {
        "id": "dEzHAUVgnlwp"
      }
    },
    {
      "cell_type": "code",
      "source": [
        "num_repetitions = 5000\n",
        "bstrap_means = make_array()\n",
        "for i in np.arange(num_repetitions):\n",
        "    bstrap_means = np.append (bstrap_means, one_bootstrap_mean_difference())"
      ],
      "metadata": {
        "id": "ZNoGTW92hEia"
      },
      "execution_count": null,
      "outputs": []
    },
    {
      "cell_type": "code",
      "source": [
        "resampled_means = Table().with_column('Bootstrap Sample Median', bstrap_means)\n",
        "# initialize mean beans as per the distribution, try printing the resample_means and see the range\n",
        "# mean_bins=np.arange(120000, 160000, 2000)\n",
        "resampled_means.hist(bins = mean_bins)\n",
        "\n"
      ],
      "metadata": {
        "id": "gQDUzEaNhEmZ"
      },
      "execution_count": null,
      "outputs": []
    },
    {
      "cell_type": "markdown",
      "source": [
        "# Task 7\n",
        "Find the 2.5 and 97.5 percentiles of your mean difference distribution, and use these values as a 95% confidence interval. You should include a text box in your output that says \"We are 95% confident that the true difference in mean 5K road race finishing times between females and males is between ----- and -----.\" (You will fill in the blanks.)"
      ],
      "metadata": {
        "id": "8c8JrqybnyqQ"
      }
    },
    {
      "cell_type": "code",
      "source": [
        "left = percentile(2.5, bstrap_means)\n",
        "right = percentile(97.5, bstrap_means)\n",
        "print(left, right)"
      ],
      "metadata": {
        "id": "-qMbRqxshEpe"
      },
      "execution_count": null,
      "outputs": []
    },
    {
      "cell_type": "markdown",
      "source": [
        "# Task 8\n",
        "Finally, make sure that your Jupyter notebook only includes code and text that is relevant to this assignment. For instance, if you have been completing this assignment by editing some original code from Section 12.1 or Section 13.2, make sure to delete the material that isn't relevant before turning in your work."
      ],
      "metadata": {
        "id": "tIUQnPtgn8Ho"
      }
    },
    {
      "cell_type": "markdown",
      "source": [
        "When you've completed this, you should select \"Print\" from the File menu, then save to pdf using this option.  The pdf file that you create in this way is the file that you should upload to Canvas for grading.  We have found that if you can select the \"A3\" paper size from the advanced options, this seems to solve the problems that are sometimes encountered in this step"
      ],
      "metadata": {
        "id": "61iOFwd4oCkJ"
      }
    }
  ]
}